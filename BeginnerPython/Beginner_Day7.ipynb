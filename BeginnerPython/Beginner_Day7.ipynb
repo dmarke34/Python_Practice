{
 "cells": [
  {
   "cell_type": "code",
   "execution_count": 34,
   "metadata": {},
   "outputs": [],
   "source": [
    "stock_prices = [] #array\n",
    "with open(r\"C:\\Users\\aaron\\Downloads\\stock_prices.csv\", \"r\") as f:\n",
    "    for line in f:\n",
    "        tokens = line.split(',') #splits date and price into array\n",
    "        day = tokens[0] #assigns date data into first index\n",
    "        price = float(tokens[1]) #assigns price data into second index\n",
    "        stock_prices.append([day, price]) #adds the arrays into a main array (2d array)"
   ]
  },
  {
   "cell_type": "code",
   "execution_count": 35,
   "metadata": {},
   "outputs": [
    {
     "data": {
      "text/plain": [
       "[['march 6', 310.0],\n",
       " ['march 7', 340.0],\n",
       " ['march 8', 380.0],\n",
       " ['march 9', 302.0],\n",
       " ['march 10', 297.0],\n",
       " ['march 11', 323.0]]"
      ]
     },
     "execution_count": 35,
     "metadata": {},
     "output_type": "execute_result"
    }
   ],
   "source": [
    "stock_prices"
   ]
  },
  {
   "cell_type": "code",
   "execution_count": 36,
   "metadata": {},
   "outputs": [
    {
     "name": "stdout",
     "output_type": "stream",
     "text": [
      "302.0\n"
     ]
    }
   ],
   "source": [
    "for element in stock_prices:\n",
    "    if element[0] == 'march 9':\n",
    "        print(element[1])"
   ]
  },
  {
   "cell_type": "code",
   "execution_count": 37,
   "metadata": {},
   "outputs": [],
   "source": [
    "stock_prices = {} #dictionary\n",
    "with open(r\"C:\\Users\\aaron\\Downloads\\stock_prices.csv\", \"r\") as f:\n",
    "    for line in f:\n",
    "        tokens = line.split(',') \n",
    "        day = tokens[0] \n",
    "        price = float(tokens[1]) \n",
    "        stock_prices[day] = price"
   ]
  },
  {
   "cell_type": "code",
   "execution_count": 38,
   "metadata": {},
   "outputs": [
    {
     "data": {
      "text/plain": [
       "{'march 6': 310.0,\n",
       " 'march 7': 340.0,\n",
       " 'march 8': 380.0,\n",
       " 'march 9': 302.0,\n",
       " 'march 10': 297.0,\n",
       " 'march 11': 323.0}"
      ]
     },
     "execution_count": 38,
     "metadata": {},
     "output_type": "execute_result"
    }
   ],
   "source": [
    "stock_prices"
   ]
  },
  {
   "cell_type": "code",
   "execution_count": 41,
   "metadata": {},
   "outputs": [
    {
     "data": {
      "text/plain": [
       "302.0"
      ]
     },
     "execution_count": 41,
     "metadata": {},
     "output_type": "execute_result"
    }
   ],
   "source": [
    "stock_prices['march 9']"
   ]
  },
  {
   "cell_type": "code",
   "execution_count": 43,
   "metadata": {},
   "outputs": [],
   "source": [
    "def get_hash(key):\n",
    "    h = 0\n",
    "    for char in key:\n",
    "        h += ord(char) #returns an integer representing the Unicode character\n",
    "    return h%100"
   ]
  },
  {
   "cell_type": "code",
   "execution_count": 44,
   "metadata": {},
   "outputs": [
    {
     "data": {
      "text/plain": [
       "9"
      ]
     },
     "execution_count": 44,
     "metadata": {},
     "output_type": "execute_result"
    }
   ],
   "source": [
    "get_hash('march 6')"
   ]
  },
  {
   "cell_type": "code",
   "execution_count": 90,
   "metadata": {},
   "outputs": [],
   "source": [
    "class HashTable: #how dictionaries work\n",
    "    def __init__(self):\n",
    "        self.MAX = 100\n",
    "        self.arr = [None for i in range(self.MAX)] #100 index element with None(null) in each index\n",
    "        \n",
    "    def get_hash(self, key):\n",
    "        h = 0\n",
    "        for char in key:\n",
    "            h += ord(char)\n",
    "        return h%self.MAX\n",
    "\n",
    "    def __setitem__(self, key, value):\n",
    "        h = self.get_hash(key)\n",
    "        self.arr[h] = value\n",
    "        \n",
    "    def __getitem__(self,key):\n",
    "        h = self.get_hash(key)\n",
    "        return self.arr[h]\n",
    "    \n",
    "    def __delitem__(self, key):\n",
    "        h = self.get_hash(key)\n",
    "        self.arr[h] = None"
   ]
  },
  {
   "cell_type": "code",
   "execution_count": 94,
   "metadata": {},
   "outputs": [],
   "source": [
    "t = HashTable()\n",
    "t['march 6'] = 130\n",
    "t['march 1'] = 20\n",
    "t['dec 17'] = 27"
   ]
  },
  {
   "cell_type": "code",
   "execution_count": 95,
   "metadata": {},
   "outputs": [
    {
     "data": {
      "text/plain": [
       "130"
      ]
     },
     "execution_count": 95,
     "metadata": {},
     "output_type": "execute_result"
    }
   ],
   "source": [
    "t['march 6']"
   ]
  },
  {
   "cell_type": "code",
   "execution_count": 96,
   "metadata": {},
   "outputs": [],
   "source": [
    "del t['march 6']\n",
    "t['march 6']"
   ]
  },
  {
   "cell_type": "code",
   "execution_count": null,
   "metadata": {},
   "outputs": [],
   "source": []
  }
 ],
 "metadata": {
  "kernelspec": {
   "display_name": "Python 3",
   "language": "python",
   "name": "python3"
  },
  "language_info": {
   "codemirror_mode": {
    "name": "ipython",
    "version": 3
   },
   "file_extension": ".py",
   "mimetype": "text/x-python",
   "name": "python",
   "nbconvert_exporter": "python",
   "pygments_lexer": "ipython3",
   "version": "3.8.3"
  }
 },
 "nbformat": 4,
 "nbformat_minor": 4
}
