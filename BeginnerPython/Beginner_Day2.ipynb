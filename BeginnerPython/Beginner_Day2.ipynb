{
 "cells": [
  {
   "cell_type": "code",
   "execution_count": 13,
   "metadata": {},
   "outputs": [
    {
     "name": "stdout",
     "output_type": "stream",
     "text": [
      "Jim\n",
      "Karen\n",
      "['Kevin', 'Karen']\n",
      "['Kevin', 'Aaron', 'Jim']\n"
     ]
    }
   ],
   "source": [
    "#Lists\n",
    "friends = [\"Kevin\", \"Karen\", \"Jim\"]\n",
    "print(friends[2])\n",
    "print(friends[-2])\n",
    "print(friends[0:2])\n",
    "friends[1] = \"Aaron\"\n",
    "print(friends)"
   ]
  },
  {
   "cell_type": "code",
   "execution_count": 36,
   "metadata": {},
   "outputs": [
    {
     "name": "stdout",
     "output_type": "stream",
     "text": [
      "['Alex', 'Kelly', 'Kevin', 'Oscar']\n",
      "3\n",
      "1\n",
      "[42, 23, 16, 15, 8, 4]\n",
      "['Alex', 'Kelly', 'Kevin', 'Oscar']\n"
     ]
    }
   ],
   "source": [
    "#List Functions\n",
    "lucky_numbers = [4,8,15,16,23,42]\n",
    "friends_2 = [\"Kevin\", \"Alex\", \"Jim\", \"Oscar\", \"Aaron\"]\n",
    "friends_2.insert(1, \"Kelly\")\n",
    "friends_2.remove(\"Jim\")\n",
    "friends_2.pop()\n",
    "friends_2.sort()\n",
    "print(friends_2)\n",
    "print(friends_2.index(\"Oscar\"))\n",
    "print(friends_2.count(\"Oscar\"))\n",
    "lucky_numbers.reverse()\n",
    "print(lucky_numbers)\n",
    "friends_3 = friends_2.copy()\n",
    "print(friends_3)"
   ]
  },
  {
   "cell_type": "code",
   "execution_count": null,
   "metadata": {},
   "outputs": [],
   "source": []
  }
 ],
 "metadata": {
  "kernelspec": {
   "display_name": "Python 3",
   "language": "python",
   "name": "python3"
  },
  "language_info": {
   "codemirror_mode": {
    "name": "ipython",
    "version": 3
   },
   "file_extension": ".py",
   "mimetype": "text/x-python",
   "name": "python",
   "nbconvert_exporter": "python",
   "pygments_lexer": "ipython3",
   "version": "3.8.3"
  }
 },
 "nbformat": 4,
 "nbformat_minor": 4
}
