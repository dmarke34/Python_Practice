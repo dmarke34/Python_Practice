{
 "cells": [
  {
   "cell_type": "code",
   "execution_count": 1,
   "metadata": {},
   "outputs": [
    {
     "data": {
      "text/plain": [
       "[4, 2025, 36, 4]"
      ]
     },
     "execution_count": 1,
     "metadata": {},
     "output_type": "execute_result"
    }
   ],
   "source": [
    "#Data Structures\n",
    "#O(n)\n",
    "def get_squared_numbers(numbers):\n",
    "    squared_numbers = []\n",
    "    for n in numbers:\n",
    "        squared_numbers.append(n*n)\n",
    "    return squared_numbers\n",
    "numbers = [2,45,6,2]\n",
    "get_squared_numbers(numbers)"
   ]
  },
  {
   "cell_type": "code",
   "execution_count": 2,
   "metadata": {},
   "outputs": [
    {
     "name": "stdout",
     "output_type": "stream",
     "text": [
      "2 is a duplicate\n"
     ]
    }
   ],
   "source": [
    "#O(n^2)\n",
    "for i in range(len(numbers)):\n",
    "    for j in range(i+1,len(numbers)):\n",
    "        if numbers[i] == numbers[j]:\n",
    "            print(str(numbers[i]) + \" is a duplicate\")\n",
    "            break"
   ]
  },
  {
   "cell_type": "code",
   "execution_count": 13,
   "metadata": {},
   "outputs": [
    {
     "name": "stdout",
     "output_type": "stream",
     "text": [
      "banana --> mango --> grapes --> orange --> \n",
      "length: 4\n",
      "banana --> mango --> orange --> \n",
      "length: 3\n",
      "banana --> mango --> figs --> orange --> \n",
      "banana --> mango --> apple --> figs --> orange --> \n",
      "mango --> apple --> figs --> orange --> \n"
     ]
    }
   ],
   "source": [
    "#Linked List\n",
    "class Node:\n",
    "    def __init__(self, data = None, next=None): \n",
    "        self.data = data\n",
    "        self.next = next\n",
    "\n",
    "class LinkedList:\n",
    "    def __init__(self):\n",
    "        self.head = None\n",
    "    \n",
    "    def insert_at_beginning(self, data):\n",
    "        node = Node(data, self.head)\n",
    "        self.head = node\n",
    "\n",
    "    def insert_at_end(self,data):\n",
    "        if self.head is None:\n",
    "            self.head = Node(data,None)\n",
    "            return\n",
    "        itr = self.head\n",
    "        while itr.next:\n",
    "            itr = itr.next\n",
    "        itr.next = Node(data,None)\n",
    "        \n",
    "    def insert_values(self,data_list):\n",
    "        self.head = None\n",
    "        for data in data_list:\n",
    "            self.insert_at_end(data)\n",
    "    \n",
    "    def printList(self):\n",
    "        if self.head is None:\n",
    "            print(\"Linked list is empty\")\n",
    "            return\n",
    "        itr = self.head\n",
    "        llstr = ''\n",
    "        while itr:\n",
    "            llstr += str(itr.data)+' --> ' \n",
    "            itr = itr.next\n",
    "        print(llstr)\n",
    "        \n",
    "    def get_length(self):\n",
    "        count = 0\n",
    "        itr = self.head\n",
    "        while itr:\n",
    "            count += 1\n",
    "            itr = itr.next\n",
    "        return count\n",
    "    \n",
    "    def remove_at(self, index):\n",
    "        if index < 0 or index >= self.get_length():\n",
    "            raise Exception(\"Invalid Index\")\n",
    "        if index == 0:\n",
    "            self.head = self.head.next\n",
    "            return\n",
    "        \n",
    "        count = 0\n",
    "        itr = self.head\n",
    "        while itr:\n",
    "            if count == index - 1:\n",
    "                itr.next = itr.next.next\n",
    "                break\n",
    "            itr = itr.next\n",
    "            count += 1\n",
    "    \n",
    "    def insert_at(self, index,data):\n",
    "        if index < 0 or index > self.get_length():\n",
    "            raise Exception(\"Invalid Index\")\n",
    "        if index == 0:\n",
    "            self.insert_at_beginning(data)\n",
    "            return\n",
    "        \n",
    "        count = 0\n",
    "        itr = self.head\n",
    "        while itr:\n",
    "            if count == index - 1:\n",
    "                node = Node(data,itr.next)\n",
    "                itr.next = node\n",
    "                break\n",
    "            itr = itr.next\n",
    "            count += 1\n",
    "            \n",
    "    def insert_after_value(self, data_after, data_to_insert):\n",
    "        if self.head is None:\n",
    "            return\n",
    "        if self.head.data==data_after:\n",
    "            self.head.next = Node(data_to_insert,self.head.next)\n",
    "            return\n",
    "        itr = self.head\n",
    "        while itr:\n",
    "            if itr.data == data_after:\n",
    "                node = Node(data_to_insert, itr.next)\n",
    "                itr.next = node\n",
    "                node.next = itr.next.next                \n",
    "                break\n",
    "            itr = itr.next\n",
    "        \n",
    "    def remove_by_value(self,data):\n",
    "        if self.head is None:\n",
    "            return\n",
    "        count = 0\n",
    "        itr = self.head\n",
    "        while itr:\n",
    "            if itr.data == data:\n",
    "                self.remove_at(count)\n",
    "                break\n",
    "            itr = itr.next\n",
    "            count += 1\n",
    "if __name__ == '__main__':\n",
    "    ll = LinkedList()\n",
    "#     ll.insert_at_beginning(5)\n",
    "#     ll.insert_at_beginning(89)\n",
    "#     ll.insert_at_end(9)\n",
    "    ll.insert_values([\"banana\", \"mango\", \"grapes\", \"orange\"])\n",
    "    ll.printList()\n",
    "    print(\"length:\", ll.get_length())\n",
    "    ll.remove_at(2)\n",
    "    ll.printList()\n",
    "    print(\"length:\", ll.get_length())\n",
    "    ll.insert_at(2, \"figs\")\n",
    "    ll.printList()\n",
    "    ll.insert_after_value(\"mango\",\"apple\") # insert apple after mango\n",
    "    ll.printList()\n",
    "    ll.remove_by_value(\"banana\") # remove orange from linked list\n",
    "    ll.printList()"
   ]
  },
  {
   "cell_type": "code",
   "execution_count": null,
   "metadata": {},
   "outputs": [],
   "source": []
  }
 ],
 "metadata": {
  "kernelspec": {
   "display_name": "Python 3",
   "language": "python",
   "name": "python3"
  },
  "language_info": {
   "codemirror_mode": {
    "name": "ipython",
    "version": 3
   },
   "file_extension": ".py",
   "mimetype": "text/x-python",
   "name": "python",
   "nbconvert_exporter": "python",
   "pygments_lexer": "ipython3",
   "version": "3.8.3"
  }
 },
 "nbformat": 4,
 "nbformat_minor": 4
}
