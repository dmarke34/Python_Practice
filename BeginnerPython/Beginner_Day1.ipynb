{
 "cells": [
  {
   "cell_type": "code",
   "execution_count": 1,
   "metadata": {},
   "outputs": [
    {
     "name": "stdout",
     "output_type": "stream",
     "text": [
      "   /|\n",
      "  / |\n",
      " /  |\n",
      "/___|\n"
     ]
    }
   ],
   "source": [
    "print(\"   /|\")\n",
    "print(\"  / |\")\n",
    "print(\" /  |\")\n",
    "print(\"/___|\")"
   ]
  },
  {
   "cell_type": "code",
   "execution_count": 7,
   "metadata": {},
   "outputs": [
    {
     "name": "stdout",
     "output_type": "stream",
     "text": [
      "There once was a man named Tom, \n",
      "he was 50 years old. \n",
      "He really liked the name Mike, \n",
      "but didn't like being 50.\n"
     ]
    }
   ],
   "source": [
    "name = \"Tom\"\n",
    "age = 50\n",
    "is_Male = False\n",
    "print(\"There once was a man named \" + str(name) + \", \")\n",
    "print(\"he was \" + str(age) + \" years old. \")\n",
    "\n",
    "name = \"Mike\"\n",
    "print(\"He really liked the name \" + str(name) + \", \")\n",
    "print(\"but didn't like being \" + str(age) + \".\")"
   ]
  },
  {
   "cell_type": "code",
   "execution_count": 24,
   "metadata": {},
   "outputs": [
    {
     "name": "stdout",
     "output_type": "stream",
     "text": [
      "giraffe academy\n",
      "False\n",
      "15\n",
      "a\n",
      "3\n"
     ]
    }
   ],
   "source": [
    "phrase = \"Giraffe Academy\" \n",
    "print(phrase.lower())\n",
    "print(phrase.upper().islower())\n",
    "print(len(phrase))\n",
    "print(phrase[3])\n",
    "print(phrase.index(\"a\"))"
   ]
  },
  {
   "cell_type": "code",
   "execution_count": null,
   "metadata": {},
   "outputs": [],
   "source": []
  }
 ],
 "metadata": {
  "kernelspec": {
   "display_name": "Python 3",
   "language": "python",
   "name": "python3"
  },
  "language_info": {
   "codemirror_mode": {
    "name": "ipython",
    "version": 3
   },
   "file_extension": ".py",
   "mimetype": "text/x-python",
   "name": "python",
   "nbconvert_exporter": "python",
   "pygments_lexer": "ipython3",
   "version": "3.8.3"
  }
 },
 "nbformat": 4,
 "nbformat_minor": 4
}
