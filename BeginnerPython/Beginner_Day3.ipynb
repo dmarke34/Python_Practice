{
 "cells": [
  {
   "cell_type": "code",
   "execution_count": 21,
   "metadata": {},
   "outputs": [
    {
     "data": {
      "text/plain": [
       "13"
      ]
     },
     "execution_count": 21,
     "metadata": {},
     "output_type": "execute_result"
    }
   ],
   "source": [
    "import math as m\n",
    "#comparisons \n",
    "def max_num(num1, num2, num3):\n",
    "    x = [num1, num2, num3]\n",
    "    x.sort()\n",
    "    return x[-1]\n",
    "max_num(2,13,4)"
   ]
  },
  {
   "cell_type": "code",
   "execution_count": 66,
   "metadata": {},
   "outputs": [
    {
     "name": "stdout",
     "output_type": "stream",
     "text": [
      "[3, 6, 7, 8, 45]\n",
      "[45, 8, 7, 6, 3]\n"
     ]
    }
   ],
   "source": [
    "x = [3,45,6,7,8]\n",
    "def reversesort(a):\n",
    "    a.sort()\n",
    "    print(a)\n",
    "    c = -1\n",
    "    for i in range(m.floor(len(a)/2)):\n",
    "        a[c] , a[i] = a[i] , a[c]\n",
    "        c -= 1 \n",
    "    print(a)\n",
    "reversesort(x)"
   ]
  },
  {
   "cell_type": "code",
   "execution_count": null,
   "metadata": {},
   "outputs": [],
   "source": []
  }
 ],
 "metadata": {
  "kernelspec": {
   "display_name": "Python 3",
   "language": "python",
   "name": "python3"
  },
  "language_info": {
   "codemirror_mode": {
    "name": "ipython",
    "version": 3
   },
   "file_extension": ".py",
   "mimetype": "text/x-python",
   "name": "python",
   "nbconvert_exporter": "python",
   "pygments_lexer": "ipython3",
   "version": "3.8.3"
  }
 },
 "nbformat": 4,
 "nbformat_minor": 4
}
