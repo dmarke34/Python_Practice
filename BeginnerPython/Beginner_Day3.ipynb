{
 "cells": [
  {
   "cell_type": "code",
   "execution_count": 21,
   "metadata": {},
   "outputs": [
    {
     "data": {
      "text/plain": [
       "13"
      ]
     },
     "execution_count": 21,
     "metadata": {},
     "output_type": "execute_result"
    }
   ],
   "source": [
    "import math as m\n",
    "#comparisons \n",
    "def max_num(num1, num2, num3):\n",
    "    x = [num1, num2, num3]\n",
    "    x.sort()\n",
    "    return x[-1]\n",
    "max_num(2,13,4)"
   ]
  },
  {
   "cell_type": "code",
   "execution_count": 107,
   "metadata": {},
   "outputs": [
    {
     "name": "stdout",
     "output_type": "stream",
     "text": [
      "Before Reverse Sort: [0, 3, 5, 6, 7, 7, 8, 9, 45]\n",
      "After Reverse Sort: [45, 9, 8, 7, 7, 6, 5, 3, 0]\n"
     ]
    }
   ],
   "source": [
    "x = [3,45,6,7,8,5,7,9,0]\n",
    "def reversesort(a):\n",
    "    a.sort()\n",
    "    print(\"Before Reverse Sort: \" + str(a))\n",
    "    c = -1\n",
    "    for i in range(m.floor(len(a)/2)):\n",
    "        a[c] , a[i] = a[i] , a[c]\n",
    "        c -= 1 \n",
    "    print(\"After Reverse Sort: \" + str(a))\n",
    "reversesort(x)"
   ]
  },
  {
   "cell_type": "code",
   "execution_count": 114,
   "metadata": {},
   "outputs": [
    {
     "name": "stdout",
     "output_type": "stream",
     "text": [
      "3 + 6 = 9\n",
      "5 + 4 = 9\n",
      "7 + 2 = 9\n",
      "6 + 3 = 9\n",
      "8 + 1 = 9\n",
      "5 + 4 = 9\n",
      "55\n"
     ]
    }
   ],
   "source": [
    "arr = [3,5,7,6,8,9,2,1,3,5,4]\n",
    "n = len(arr)\n",
    "count = 0\n",
    "for i in range(n):\n",
    "    for j in range(i+1,n):\n",
    "        #print(i , j)\n",
    "        count += 1\n",
    "        if(arr[i] + arr[j] == 9):            \n",
    "            print(str(arr[i]) + \" + \" + str(arr[j]) + \" = 9\")\n",
    "print(count)"
   ]
  },
  {
   "cell_type": "code",
   "execution_count": null,
   "metadata": {},
   "outputs": [],
   "source": []
  }
 ],
 "metadata": {
  "kernelspec": {
   "display_name": "Python 3",
   "language": "python",
   "name": "python3"
  },
  "language_info": {
   "codemirror_mode": {
    "name": "ipython",
    "version": 3
   },
   "file_extension": ".py",
   "mimetype": "text/x-python",
   "name": "python",
   "nbconvert_exporter": "python",
   "pygments_lexer": "ipython3",
   "version": "3.8.3"
  }
 },
 "nbformat": 4,
 "nbformat_minor": 4
}
